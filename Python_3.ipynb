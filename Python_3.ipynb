{
  "nbformat": 4,
  "nbformat_minor": 0,
  "metadata": {
    "colab": {
      "provenance": [],
      "authorship_tag": "ABX9TyPLuX3UQLBZVbSkxBnVXa+J",
      "include_colab_link": true
    },
    "kernelspec": {
      "name": "python3",
      "display_name": "Python 3"
    },
    "language_info": {
      "name": "python"
    }
  },
  "cells": [
    {
      "cell_type": "markdown",
      "metadata": {
        "id": "view-in-github",
        "colab_type": "text"
      },
      "source": [
        "<a href=\"https://colab.research.google.com/github/Hana091285/Anxiety-Stress-Self-Management/blob/main/Python_3.ipynb\" target=\"_parent\"><img src=\"https://colab.research.google.com/assets/colab-badge.svg\" alt=\"Open In Colab\"/></a>"
      ]
    },
    {
      "cell_type": "code",
      "source": [
        "shopping_dict = {'apple': 35, 'orange' :45, 'cherry':55}\n",
        "shopping_dict"
      ],
      "metadata": {
        "colab": {
          "base_uri": "https://localhost:8080/"
        },
        "id": "fZXXfduKvwUS",
        "outputId": "23cb1feb-31b2-4228-d4e9-db38da234a83"
      },
      "execution_count": null,
      "outputs": [
        {
          "output_type": "execute_result",
          "data": {
            "text/plain": [
              "{'apple': 35, 'orange': 45, 'cherry': 55}"
            ]
          },
          "metadata": {},
          "execution_count": 2
        }
      ]
    },
    {
      "cell_type": "code",
      "source": [
        "#Access elements of a dictionary\n",
        "shopping_dict['orange']"
      ],
      "metadata": {
        "colab": {
          "base_uri": "https://localhost:8080/"
        },
        "id": "1_4rhGESvwf6",
        "outputId": "1f0b1e41-425a-461e-9d74-0d701c7d921d"
      },
      "execution_count": null,
      "outputs": [
        {
          "output_type": "execute_result",
          "data": {
            "text/plain": [
              "45"
            ]
          },
          "metadata": {},
          "execution_count": 6
        }
      ]
    },
    {
      "cell_type": "code",
      "source": [
        "info = {'name':'John', 'age': 55, 'email': 'j@gmail.com', 'status': True}\n",
        "info['status']"
      ],
      "metadata": {
        "colab": {
          "base_uri": "https://localhost:8080/"
        },
        "id": "HTIRGpyFvwiQ",
        "outputId": "15b29f2d-0637-417e-a90c-d3a99b029c0a"
      },
      "execution_count": null,
      "outputs": [
        {
          "output_type": "execute_result",
          "data": {
            "text/plain": [
              "True"
            ]
          },
          "metadata": {},
          "execution_count": 9
        }
      ]
    },
    {
      "cell_type": "code",
      "execution_count": null,
      "metadata": {
        "colab": {
          "base_uri": "https://localhost:8080/"
        },
        "id": "rHYoeYJKvaEE",
        "outputId": "b6768c12-afe9-420a-a0f8-a046b2ffd3d9"
      },
      "outputs": [
        {
          "output_type": "execute_result",
          "data": {
            "text/plain": [
              "{'brand': 'Ford', 'model': 'Mustang', 'year': 2020}"
            ]
          },
          "metadata": {},
          "execution_count": 10
        }
      ],
      "source": [
        "# dictionarries are used to store data values in key = value pairs\n",
        "# Duplicates are not allowed in dictionary\n",
        "#dictionaries are essentially mappings - one to one mapping and not to many\n",
        "# If we provide a duplicate in a dictionary it overwrtes the old one with the new one/last assigned\n",
        "thisdict ={\n",
        "    \"brand\": \"Ford\",\n",
        "    \"model\": \"Mustang\",\n",
        "    \"year\" : 1964,\n",
        "    \"year\" : 2020\n",
        "\n",
        "}\n",
        "thisdict"
      ]
    },
    {
      "cell_type": "code",
      "source": [
        "# How many pairs are there in your dictionary\n",
        "len(thisdict)\n"
      ],
      "metadata": {
        "id": "VyZ_k-ICvwk7",
        "colab": {
          "base_uri": "https://localhost:8080/"
        },
        "outputId": "359ce530-aadb-4d71-a07e-32b0fa3d810b"
      },
      "execution_count": 11,
      "outputs": [
        {
          "output_type": "execute_result",
          "data": {
            "text/plain": [
              "3"
            ]
          },
          "metadata": {},
          "execution_count": 11
        }
      ]
    },
    {
      "cell_type": "code",
      "source": [
        "#return back all keys from the dictionary\n",
        "thisdict.keys()"
      ],
      "metadata": {
        "id": "nKXMpJSxvwnW",
        "colab": {
          "base_uri": "https://localhost:8080/"
        },
        "outputId": "c5a2218b-c54c-4886-cfe6-0bc167521cf0"
      },
      "execution_count": 12,
      "outputs": [
        {
          "output_type": "execute_result",
          "data": {
            "text/plain": [
              "dict_keys(['brand', 'model', 'year'])"
            ]
          },
          "metadata": {},
          "execution_count": 12
        }
      ]
    },
    {
      "cell_type": "code",
      "source": [
        "#return back all the values from the dictionary\n",
        "thisdict.values()"
      ],
      "metadata": {
        "id": "NX1AksfOvwp8",
        "colab": {
          "base_uri": "https://localhost:8080/"
        },
        "outputId": "d1c9a882-a52a-4d56-e760-9cda0a4dcf5b"
      },
      "execution_count": 13,
      "outputs": [
        {
          "output_type": "execute_result",
          "data": {
            "text/plain": [
              "dict_values(['Ford', 'Mustang', 2020])"
            ]
          },
          "metadata": {},
          "execution_count": 13
        }
      ]
    },
    {
      "cell_type": "code",
      "source": [
        "#return back all pairs from the dictionary\n",
        "thisdict.items()"
      ],
      "metadata": {
        "id": "TVuuM1fDvwsA",
        "colab": {
          "base_uri": "https://localhost:8080/"
        },
        "outputId": "c3e8b69f-8c9e-4287-f608-528947d3ff07"
      },
      "execution_count": 14,
      "outputs": [
        {
          "output_type": "execute_result",
          "data": {
            "text/plain": [
              "dict_items([('brand', 'Ford'), ('model', 'Mustang'), ('year', 2020)])"
            ]
          },
          "metadata": {},
          "execution_count": 14
        }
      ]
    },
    {
      "cell_type": "code",
      "source": [
        "# Add a new value pair to the dictionary\n",
        "# Exactly the same syntax for variable assignment\n",
        "thisdict['color'] = 'red'\n",
        "thisdict"
      ],
      "metadata": {
        "id": "l0WouGMKvwuO",
        "colab": {
          "base_uri": "https://localhost:8080/"
        },
        "outputId": "ae4c505b-319a-4c98-da2f-002c7b898c45"
      },
      "execution_count": 16,
      "outputs": [
        {
          "output_type": "execute_result",
          "data": {
            "text/plain": [
              "{'brand': 'Ford', 'model': 'Mustang', 'year': 2020, 'color': 'red'}"
            ]
          },
          "metadata": {},
          "execution_count": 16
        }
      ]
    },
    {
      "cell_type": "code",
      "source": [
        "#logical operations\n",
        "a = 5\n",
        "b = 10\n",
        "a == b"
      ],
      "metadata": {
        "id": "czme-kNpvwxo",
        "colab": {
          "base_uri": "https://localhost:8080/"
        },
        "outputId": "3ebf004e-a0c4-4175-b1a4-1feaf1479a45"
      },
      "execution_count": 17,
      "outputs": [
        {
          "output_type": "execute_result",
          "data": {
            "text/plain": [
              "False"
            ]
          },
          "metadata": {},
          "execution_count": 17
        }
      ]
    },
    {
      "cell_type": "code",
      "source": [
        "# after if and else keyword move to next line and keep indentations of 4 spaces\n",
        "if a < b:\n",
        "    print(\"a is less than b\")\n",
        "else:\n",
        "    print(\"a is bigger than b\")"
      ],
      "metadata": {
        "colab": {
          "base_uri": "https://localhost:8080/"
        },
        "id": "EZOXRoeWBQTI",
        "outputId": "5249c513-2d3a-42b2-cafb-cba7d7a1d1e3"
      },
      "execution_count": 19,
      "outputs": [
        {
          "output_type": "stream",
          "name": "stdout",
          "text": [
            "a is less than b\n"
          ]
        }
      ]
    },
    {
      "cell_type": "code",
      "source": [
        "a = 200\n",
        "b = 33\n",
        "if b>a:\n",
        "  print(\"b is greater than a\",a,b)\n",
        "elif a == b:\n",
        "  print(\"a is equal to b\",a,b)\n",
        "elif a + b > 10000:\n",
        "  print(\"thier sum is a huge number\",a,b)\n",
        "else:\n",
        "  print(\"a is greater than b\",a,b)"
      ],
      "metadata": {
        "colab": {
          "base_uri": "https://localhost:8080/"
        },
        "id": "RZBb0G2wBQVc",
        "outputId": "939a0c2c-3b80-44d3-e7bd-b06b7edbb66e"
      },
      "execution_count": 25,
      "outputs": [
        {
          "output_type": "stream",
          "name": "stdout",
          "text": [
            "a is greater than b 200 33\n"
          ]
        }
      ]
    },
    {
      "cell_type": "code",
      "source": [
        "a = 200\n",
        "b = 33\n",
        "c = 500\n",
        "\n",
        "if a>b and c>a:\n",
        "  print (\"Both conditions are true\")"
      ],
      "metadata": {
        "colab": {
          "base_uri": "https://localhost:8080/"
        },
        "id": "CdMnVzYHBQXa",
        "outputId": "9e9f738d-f110-4890-9145-494c164a793e"
      },
      "execution_count": 28,
      "outputs": [
        {
          "output_type": "stream",
          "name": "stdout",
          "text": [
            "Both conditions are true\n"
          ]
        }
      ]
    },
    {
      "cell_type": "code",
      "source": [
        "if a%20 == 0 or c < b:\n",
        "  print(\"At least one of conditions is true\")"
      ],
      "metadata": {
        "colab": {
          "base_uri": "https://localhost:8080/"
        },
        "id": "R6M5atw-BQZ8",
        "outputId": "a4721c47-5e6f-4b79-b50e-b4553a9c07ab"
      },
      "execution_count": 29,
      "outputs": [
        {
          "output_type": "stream",
          "name": "stdout",
          "text": [
            "At least one of conditions is true\n"
          ]
        }
      ]
    },
    {
      "cell_type": "code",
      "source": [
        "a = [10,20,30]\n",
        "if a[0]>a[1] and a[0]>a[2]:\n",
        "  print(\"Max is\", a[0])\n",
        "elif a[1]>a[0] and a[1]>a[2]:\n",
        "  printa(\"Max is\",a[1])\n",
        "else:\n",
        "  print(\"Max is\",a[2])"
      ],
      "metadata": {
        "colab": {
          "base_uri": "https://localhost:8080/"
        },
        "id": "Vn98dCWyBQdl",
        "outputId": "6ce53b3a-456a-4772-deeb-f2a3b90c7218"
      },
      "execution_count": 10,
      "outputs": [
        {
          "output_type": "stream",
          "name": "stdout",
          "text": [
            "Max is 30\n"
          ]
        }
      ]
    },
    {
      "cell_type": "code",
      "source": [
        "max(a)"
      ],
      "metadata": {
        "colab": {
          "base_uri": "https://localhost:8080/"
        },
        "id": "1VWtSQp7z2Xo",
        "outputId": "39af0950-c7a1-4d43-a0a8-3a9b7f93abec"
      },
      "execution_count": 11,
      "outputs": [
        {
          "output_type": "execute_result",
          "data": {
            "text/plain": [
              "30"
            ]
          },
          "metadata": {},
          "execution_count": 11
        }
      ]
    },
    {
      "cell_type": "code",
      "source": [
        "a.sort(reverse=True) # descending order"
      ],
      "metadata": {
        "id": "24R3T1VL0ccQ"
      },
      "execution_count": 12,
      "outputs": []
    },
    {
      "cell_type": "code",
      "source": [
        "print(a)"
      ],
      "metadata": {
        "colab": {
          "base_uri": "https://localhost:8080/"
        },
        "id": "gdy-NPwi0cx-",
        "outputId": "505c3d01-5806-407c-ee65-1aab46fd3f97"
      },
      "execution_count": 14,
      "outputs": [
        {
          "output_type": "stream",
          "name": "stdout",
          "text": [
            "[30, 20, 10]\n"
          ]
        }
      ]
    },
    {
      "cell_type": "code",
      "source": [
        "a.sort()\n",
        "print(a)"
      ],
      "metadata": {
        "colab": {
          "base_uri": "https://localhost:8080/"
        },
        "id": "D_ljxb8B0c1I",
        "outputId": "eee3fe11-16d6-449e-eb8c-6e76b98fd7d7"
      },
      "execution_count": 16,
      "outputs": [
        {
          "output_type": "stream",
          "name": "stdout",
          "text": [
            "[10, 20, 30]\n"
          ]
        }
      ]
    },
    {
      "cell_type": "code",
      "source": [],
      "metadata": {
        "id": "d6-2tU1f0c30"
      },
      "execution_count": null,
      "outputs": []
    },
    {
      "cell_type": "code",
      "source": [],
      "metadata": {
        "id": "qDf8sCLf0c7R"
      },
      "execution_count": null,
      "outputs": []
    }
  ]
}